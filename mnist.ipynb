{
 "cells": [
  {
   "cell_type": "code",
   "execution_count": 1,
   "metadata": {},
   "outputs": [],
   "source": [
    "import numpy as np\n",
    "import scipy as sp\n",
    "import pandas as pd\n",
    "import seaborn as sns\n",
    "import struct as st\n",
    "\n",
    "import os\n",
    "\n",
    "import matplotlib.pyplot as plt\n",
    "%matplotlib inline"
   ]
  },
  {
   "cell_type": "markdown",
   "metadata": {},
   "source": [
    "### Loading from ubyte files\n",
    "actually we don't have enough working memory"
   ]
  },
  {
   "cell_type": "code",
   "execution_count": 2,
   "metadata": {},
   "outputs": [],
   "source": [
    "# filename = \"data/fashion\"+ os.listdir(\"data/fashion\")[0]\n",
    "dirname = \"data/fashion/\""
   ]
  },
  {
   "cell_type": "code",
   "execution_count": 3,
   "metadata": {},
   "outputs": [
    {
     "data": {
      "text/plain": [
       "['t10k-images-idx3-ubyte.gz',\n",
       " 't10k-images.idx3-ubyte',\n",
       " 't10k-labels-idx1-ubyte.gz',\n",
       " 't10k-labels.idx1-ubyte',\n",
       " 'train-images-idx3-ubyte.gz',\n",
       " 'train-images.idx3-ubyte',\n",
       " 'train-labels-idx1-ubyte.gz',\n",
       " 'train-labels.idx1-ubyte']"
      ]
     },
     "execution_count": 3,
     "metadata": {},
     "output_type": "execute_result"
    }
   ],
   "source": [
    "files = os.listdir(dirname)\n",
    "files"
   ]
  },
  {
   "cell_type": "code",
   "execution_count": 4,
   "metadata": {},
   "outputs": [],
   "source": [
    "testing_set = {\"img\": dirname+files[1], \"label\":dirname+files[3]}\n",
    "training_set = {\"img\": dirname+files[5], \"label\":dirname+files[5]}"
   ]
  },
  {
   "cell_type": "code",
   "execution_count": 5,
   "metadata": {},
   "outputs": [
    {
     "data": {
      "text/plain": [
       "{'img': 'data/fashion/t10k-images.idx3-ubyte',\n",
       " 'label': 'data/fashion/t10k-labels.idx1-ubyte'}"
      ]
     },
     "execution_count": 5,
     "metadata": {},
     "output_type": "execute_result"
    }
   ],
   "source": [
    "testing_set"
   ]
  },
  {
   "cell_type": "code",
   "execution_count": 6,
   "metadata": {},
   "outputs": [],
   "source": [
    "testing_set_img = open(testing_set[\"img\"], \"rb\")"
   ]
  },
  {
   "cell_type": "markdown",
   "metadata": {},
   "source": [
    "To change the file object’s position, use f.seek(offset, whence). The position is computed from adding offset to a reference point; the reference point is selected by the whence argument. A whence value of 0 measures from the beginning of the file, 1 uses the current file position, and 2 uses the end of the file as the reference point. whence can be omitted and defaults to 0, using the beginning of the file as the reference point.\n",
    "\n"
   ]
  },
  {
   "cell_type": "code",
   "execution_count": 67,
   "metadata": {},
   "outputs": [
    {
     "data": {
      "text/plain": [
       "0"
      ]
     },
     "execution_count": 67,
     "metadata": {},
     "output_type": "execute_result"
    }
   ],
   "source": [
    "testing_set_img.seek(0)\n",
    "# --> go to the first byte of the file"
   ]
  },
  {
   "cell_type": "code",
   "execution_count": 32,
   "metadata": {},
   "outputs": [
    {
     "data": {
      "text/plain": [
       "4"
      ]
     },
     "execution_count": 32,
     "metadata": {},
     "output_type": "execute_result"
    }
   ],
   "source": [
    "st.calcsize(\"4B\")"
   ]
  },
  {
   "cell_type": "code",
   "execution_count": 65,
   "metadata": {},
   "outputs": [],
   "source": [
    "# https://medium.com/@mannasiladittya/converting-mnist-data-in-idx-format-to-python-numpy-array-5cb9126f99f1"
   ]
  },
  {
   "cell_type": "code",
   "execution_count": 23,
   "metadata": {},
   "outputs": [],
   "source": [
    "magic = st.unpack(\">4B\", testing_set_img.read(4))"
   ]
  },
  {
   "cell_type": "code",
   "execution_count": 26,
   "metadata": {},
   "outputs": [
    {
     "data": {
      "text/plain": [
       "(0, 0, 8, 3)"
      ]
     },
     "execution_count": 26,
     "metadata": {},
     "output_type": "execute_result"
    }
   ],
   "source": [
    "magic\n"
   ]
  },
  {
   "cell_type": "code",
   "execution_count": 72,
   "metadata": {},
   "outputs": [],
   "source": [
    "# should do this right after the seek method to be sure that we are starting at the beginning of the document\n",
    "testing_set_img.seek(0)\n",
    "\n",
    "nimg = st.unpack(\">I\", testing_set_img.read(4))[0]\n",
    "nrow = st.unpack(\">I\", testing_set_img.read(4))[0]\n",
    "ncol = st.unpack(\">I\", testing_set_img.read(4))[0]"
   ]
  },
  {
   "cell_type": "code",
   "execution_count": 63,
   "metadata": {},
   "outputs": [],
   "source": [
    "test_img = np.zeros((nimg,nrow,ncol))"
   ]
  },
  {
   "cell_type": "code",
   "execution_count": 73,
   "metadata": {},
   "outputs": [
    {
     "data": {
      "text/plain": [
       "574280000"
      ]
     },
     "execution_count": 73,
     "metadata": {},
     "output_type": "execute_result"
    }
   ],
   "source": [
    "# 1 pixel is 1 byte so:\n",
    "nbytes = nimg*nrow*ncol*1\n",
    "nbytes"
   ]
  },
  {
   "cell_type": "code",
   "execution_count": 80,
   "metadata": {},
   "outputs": [],
   "source": [
    "# memory leak with this huge buffer........."
   ]
  },
  {
   "cell_type": "code",
   "execution_count": 79,
   "metadata": {},
   "outputs": [],
   "source": [
    "# img = 255 - np.asarray(st.unpack(\">\"+\"B\"*nbytes, testing_set_img.read(nbytes))).reshape((nimg, nrow, ncol))"
   ]
  },
  {
   "cell_type": "code",
   "execution_count": null,
   "metadata": {},
   "outputs": [],
   "source": [
    "# data is big endian --> \">\"\n",
    "#  use integer type B, which is of size = 1"
   ]
  },
  {
   "cell_type": "markdown",
   "metadata": {},
   "source": [
    "### Loading data using something else...:"
   ]
  },
  {
   "cell_type": "code",
   "execution_count": 2,
   "metadata": {},
   "outputs": [
    {
     "name": "stderr",
     "output_type": "stream",
     "text": [
      "C:\\Users\\theop\\Anaconda3\\envs\\env_ipynb\\lib\\site-packages\\tensorflow\\python\\framework\\dtypes.py:526: FutureWarning: Passing (type, 1) or '1type' as a synonym of type is deprecated; in a future version of numpy, it will be understood as (type, (1,)) / '(1,)type'.\n",
      "  _np_qint8 = np.dtype([(\"qint8\", np.int8, 1)])\n",
      "C:\\Users\\theop\\Anaconda3\\envs\\env_ipynb\\lib\\site-packages\\tensorflow\\python\\framework\\dtypes.py:527: FutureWarning: Passing (type, 1) or '1type' as a synonym of type is deprecated; in a future version of numpy, it will be understood as (type, (1,)) / '(1,)type'.\n",
      "  _np_quint8 = np.dtype([(\"quint8\", np.uint8, 1)])\n",
      "C:\\Users\\theop\\Anaconda3\\envs\\env_ipynb\\lib\\site-packages\\tensorflow\\python\\framework\\dtypes.py:528: FutureWarning: Passing (type, 1) or '1type' as a synonym of type is deprecated; in a future version of numpy, it will be understood as (type, (1,)) / '(1,)type'.\n",
      "  _np_qint16 = np.dtype([(\"qint16\", np.int16, 1)])\n",
      "C:\\Users\\theop\\Anaconda3\\envs\\env_ipynb\\lib\\site-packages\\tensorflow\\python\\framework\\dtypes.py:529: FutureWarning: Passing (type, 1) or '1type' as a synonym of type is deprecated; in a future version of numpy, it will be understood as (type, (1,)) / '(1,)type'.\n",
      "  _np_quint16 = np.dtype([(\"quint16\", np.uint16, 1)])\n",
      "C:\\Users\\theop\\Anaconda3\\envs\\env_ipynb\\lib\\site-packages\\tensorflow\\python\\framework\\dtypes.py:530: FutureWarning: Passing (type, 1) or '1type' as a synonym of type is deprecated; in a future version of numpy, it will be understood as (type, (1,)) / '(1,)type'.\n",
      "  _np_qint32 = np.dtype([(\"qint32\", np.int32, 1)])\n",
      "C:\\Users\\theop\\Anaconda3\\envs\\env_ipynb\\lib\\site-packages\\tensorflow\\python\\framework\\dtypes.py:535: FutureWarning: Passing (type, 1) or '1type' as a synonym of type is deprecated; in a future version of numpy, it will be understood as (type, (1,)) / '(1,)type'.\n",
      "  np_resource = np.dtype([(\"resource\", np.ubyte, 1)])\n"
     ]
    }
   ],
   "source": [
    "import tensorflow as tf"
   ]
  },
  {
   "cell_type": "markdown",
   "metadata": {},
   "source": [
    "### MNIST digits"
   ]
  },
  {
   "cell_type": "code",
   "execution_count": 104,
   "metadata": {},
   "outputs": [],
   "source": [
    "(x_train, y_train), (x_test, y_test) = tf.keras.datasets.mnist.load_data()"
   ]
  },
  {
   "cell_type": "markdown",
   "metadata": {},
   "source": [
    "#### Take a look at one image and its label"
   ]
  },
  {
   "cell_type": "code",
   "execution_count": 10,
   "metadata": {},
   "outputs": [
    {
     "name": "stdout",
     "output_type": "stream",
     "text": [
      "5\n"
     ]
    },
    {
     "data": {
      "text/plain": [
       "<matplotlib.image.AxesImage at 0x2055e298668>"
      ]
     },
     "execution_count": 10,
     "metadata": {},
     "output_type": "execute_result"
    },
    {
     "data": {
      "image/png": "[encoded data removed]",
      "text/plain": [
       "<Figure size 432x288 with 1 Axes>"
      ]
     },
     "metadata": {
      "needs_background": "light"
     },
     "output_type": "display_data"
    }
   ],
   "source": [
    "print(y_train[0])\n",
    "plt.imshow(x_train[0], cmap = \"Greys\")"
   ]
  },
  {
   "cell_type": "code",
   "execution_count": 11,
   "metadata": {},
   "outputs": [],
   "source": [
    "from sklearn.preprocessing import MinMaxScaler"
   ]
  },
  {
   "cell_type": "markdown",
   "metadata": {},
   "source": [
    "#### Normalize values"
   ]
  },
  {
   "cell_type": "code",
   "execution_count": 111,
   "metadata": {},
   "outputs": [],
   "source": [
    "mmScaler = MinMaxScaler()\n",
    "# mmScaler.fit([0,255])\n",
    "\n",
    "assert(x_train[0].reshape(-1).reshape(28,28).all() == x_train[0].all())\n",
    "# so we can flatten and unflatten to min-max scale even though this is probably not ideal\n",
    "\n",
    "\n",
    "x_train_norm = mmScaler.fit_transform(x_train.reshape(x_train.shape[0], -1).astype(\"float64\")).reshape(x_train.shape)\n",
    "x_test_norm = mmScaler.fit_transform(x_test.reshape(x_test.shape[0], -1).astype(\"float64\")).reshape(x_test.shape)\n",
    "\n",
    "x_train_norm_int = x_train_norm.astype(x_train.dtype)\n",
    "x_test_norm_int = x_test_norm.astype(x_train.dtype)"
   ]
  },
  {
   "cell_type": "markdown",
   "metadata": {},
   "source": [
    "####  distribution of pixels:"
   ]
  },
  {
   "cell_type": "code",
   "execution_count": 18,
   "metadata": {},
   "outputs": [
    {
     "name": "stderr",
     "output_type": "stream",
     "text": [
      "C:\\Users\\theop\\Anaconda3\\envs\\env_ipynb\\lib\\site-packages\\scipy\\stats\\stats.py:1713: FutureWarning: Using a non-tuple sequence for multidimensional indexing is deprecated; use `arr[tuple(seq)]` instead of `arr[seq]`. In the future this will be interpreted as an array index, `arr[np.array(seq)]`, which will result either in an error or a different result.\n",
      "  return np.add.reduce(sorted[indexer] * weights, axis=axis) / sumval\n"
     ]
    },
    {
     "data": {
      "text/plain": [
       "<matplotlib.axes._subplots.AxesSubplot at 0x2055e3463c8>"
      ]
     },
     "execution_count": 18,
     "metadata": {},
     "output_type": "execute_result"
    },
    {
     "data": {
      "image/png": "[encoded data removed]",
      "text/plain": [
       "<Figure size 1080x504 with 2 Axes>"
      ]
     },
     "metadata": {},
     "output_type": "display_data"
    }
   ],
   "source": [
    "sns.set()\n",
    "fig, ax = plt.subplots(figsize = (15,7), ncols = 2)\n",
    "sns.distplot(a = x_train.reshape(-1), kde = False, ax = ax[0])\n",
    "sns.distplot(a = x_train.reshape(x_train.shape[0],-1)[0], kde = False, ax = ax[1])"
   ]
  },
  {
   "cell_type": "markdown",
   "metadata": {},
   "source": [
    "we can see that there are mostly just values corresponding to 0 and 255, so we could decide to not convert all the values in between to doubles but to ints --> all values are set to max or min (0 or 1 after min max scaling)\n",
    "\n",
    "we can then see if it makes any difference. Usually it won't as the network should already be able to attain high accuracy wihtout any processing. Plus the images are already centered and well calibrated, so its not like they need that much pre processing. \n",
    "\n",
    "We should also investigate with / without rotations to see what that does.\n"
   ]
  },
  {
   "cell_type": "markdown",
   "metadata": {},
   "source": [
    "normalizing: we know values are between 0 and 255 because 256 color grading. We will use a min-max scaler, with the min being 0 and the max being 255 then\n",
    "\n",
    "we can also one hot encode the labels, but that can be taken care of by keras when using \"sparse\" instead of regular categorical cross entropy"
   ]
  },
  {
   "cell_type": "markdown",
   "metadata": {},
   "source": [
    "#### One hot encode labels "
   ]
  },
  {
   "cell_type": "code",
   "execution_count": 19,
   "metadata": {},
   "outputs": [],
   "source": [
    "from tensorflow.keras.utils import to_categorical"
   ]
  },
  {
   "cell_type": "code",
   "execution_count": 20,
   "metadata": {},
   "outputs": [],
   "source": [
    "# since there are 10 different classes (hint: numbers from 0 to 9 included)\n",
    "y_train_enc = to_categorical(y_train, 10)\n",
    "y_test_enc = to_categorical(y_test, 10)"
   ]
  },
  {
   "cell_type": "markdown",
   "metadata": {},
   "source": [
    "#### class distribution\n",
    "\n",
    "Need to make sure the classes are more or less balanced before we train"
   ]
  },
  {
   "cell_type": "code",
   "execution_count": 21,
   "metadata": {},
   "outputs": [
    {
     "data": {
      "text/plain": [
       "<matplotlib.axes._subplots.AxesSubplot at 0x2051da71ef0>"
      ]
     },
     "execution_count": 21,
     "metadata": {},
     "output_type": "execute_result"
    },
    {
     "data": {
      "image/png": "[encoded data removed]",
      "text/plain": [
       "<Figure size 432x288 with 1 Axes>"
      ]
     },
     "metadata": {},
     "output_type": "display_data"
    }
   ],
   "source": [
    "# lets look at the distribution of labels\n",
    "sns.countplot(y_train)"
   ]
  },
  {
   "cell_type": "markdown",
   "metadata": {},
   "source": [
    "#### Create a model and train it\n",
    "- will use adam optimizer but could honestly stick with sgd for this simple dataset\n",
    "- will use categorical cross entropy loss (\"sparse\" since we are not going to use one hot encoded labels)\n",
    "- will use validation split : basically cross-validation 0.9 to 0.1 in the training set. "
   ]
  },
  {
   "cell_type": "code",
   "execution_count": 22,
   "metadata": {},
   "outputs": [],
   "source": [
    "from tensorflow import keras"
   ]
  },
  {
   "cell_type": "code",
   "execution_count": 23,
   "metadata": {},
   "outputs": [],
   "source": [
    "from tensorflow.keras.models import Sequential\n",
    "from tensorflow.keras.layers import Dense, Conv2D, Dropout, Flatten, MaxPooling2D, Activation"
   ]
  },
  {
   "cell_type": "code",
   "execution_count": 129,
   "metadata": {},
   "outputs": [],
   "source": [
    "def save_model(model, filename):\n",
    "    model.save(filename)\n",
    "    return filename"
   ]
  },
  {
   "cell_type": "code",
   "execution_count": 113,
   "metadata": {},
   "outputs": [],
   "source": [
    "# need to be 4d for keras models, so add a dimension = 1 and the rest is like it was before\n",
    "x_train_keras = x_train_norm.reshape(x_train.shape[0], 28, 28, 1)\n",
    "x_test_keras = x_test_norm.reshape(x_test.shape[0], 28, 28, 1)\n",
    "input_shape = (28,28,1)\n",
    "num_classes = 10\n"
   ]
  },
  {
   "cell_type": "code",
   "execution_count": 144,
   "metadata": {},
   "outputs": [],
   "source": [
    "def plot_history(model_history):\n",
    "    fig, ax = plt.subplots(figsize = (15,7), ncols = 2)\n",
    "    epochs = np.linspace(1,len(model_history.history[\"acc\"]), len(model_history.history[\"acc\"])).astype(int)\n",
    "    \n",
    "    sns.lineplot(x = epochs, y = model_history.history[\"acc\"], ax = ax[0])\n",
    "    sns.lineplot(x = epochs, y = model_history.history[\"val_acc\"], ax = ax[0])\n",
    "    ax[0].set_title(\"Accuracy and validation accuracy\")\n",
    "    ax[0].set_ylabel(\"Accuracy\")\n",
    "    ax[0].set_xlabel(\"Epochs\")\n",
    "    ax[0].legend([\"Train\",\"Test\"], loc = \"best\")\n",
    "    \n",
    "    sns.lineplot(x = epochs, y = model_history.history[\"loss\"], ax = ax[1])\n",
    "    sns.lineplot(x = epochs, y = model_history.history[\"val_loss\"], ax = ax[1])\n",
    "    ax[1].set_title(\"Accuracy and validation loss\")\n",
    "    ax[1].set_ylabel(\"Loss\")\n",
    "    ax[1].set_xlabel(\"Epochs\")\n",
    "    ax[1].legend([\"Train\",\"Test\"], loc = \"best\")\n",
    "    \n",
    "# from keras: https://keras.io/visualization"
   ]
  },
  {
   "cell_type": "markdown",
   "metadata": {},
   "source": [
    "#### A simple nn\n",
    "- no dropout\n",
    "- relu \n",
    "- only 2 layers including the final layer (1 hidden)\n",
    "- still performs with > 0.89 accuracy on first epoch and 0.92 ish on 10th...."
   ]
  },
  {
   "cell_type": "code",
   "execution_count": 128,
   "metadata": {},
   "outputs": [
    {
     "name": "stdout",
     "output_type": "stream",
     "text": [
      "Train on 54000 samples, validate on 6000 samples\n",
      "Epoch 1/10\n",
      "54000/54000 [==============================] - 20s 368us/sample - loss: 0.3686 - acc: 0.8943 - val_loss: 0.2601 - val_acc: 0.9260\n",
      "Epoch 2/10\n",
      "54000/54000 [==============================] - 18s 338us/sample - loss: 0.2943 - acc: 0.9166 - val_loss: 0.2585 - val_acc: 0.9228\n",
      "Epoch 3/10\n",
      "54000/54000 [==============================] - 19s 345us/sample - loss: 0.2845 - acc: 0.9206 - val_loss: 0.2387 - val_acc: 0.9332\n",
      "Epoch 4/10\n",
      "54000/54000 [==============================] - 19s 346us/sample - loss: 0.2755 - acc: 0.9227 - val_loss: 0.2375 - val_acc: 0.9335\n",
      "Epoch 5/10\n",
      "54000/54000 [==============================] - 18s 330us/sample - loss: 0.2716 - acc: 0.9237 - val_loss: 0.2303 - val_acc: 0.9357\n",
      "Epoch 6/10\n",
      "54000/54000 [==============================] - 19s 350us/sample - loss: 0.2674 - acc: 0.9246 - val_loss: 0.2308 - val_acc: 0.9385\n",
      "Epoch 7/10\n",
      "54000/54000 [==============================] - 19s 346us/sample - loss: 0.2643 - acc: 0.9264 - val_loss: 0.2309 - val_acc: 0.9357\n",
      "Epoch 8/10\n",
      "54000/54000 [==============================] - 19s 347us/sample - loss: 0.2614 - acc: 0.9263 - val_loss: 0.2324 - val_acc: 0.9373\n",
      "Epoch 9/10\n",
      "54000/54000 [==============================] - 19s 347us/sample - loss: 0.2590 - acc: 0.9276 - val_loss: 0.2429 - val_acc: 0.9307\n",
      "Epoch 10/10\n",
      "54000/54000 [==============================] - 19s 346us/sample - loss: 0.2581 - acc: 0.9271 - val_loss: 0.2321 - val_acc: 0.9383\n",
      "_________________________________________________________________\n",
      "Layer (type)                 Output Shape              Param #   \n",
      "=================================================================\n",
      "dense_38 (Dense)             multiple                  56        \n",
      "_________________________________________________________________\n",
      "flatten_7 (Flatten)          multiple                  0         \n",
      "_________________________________________________________________\n",
      "dense_39 (Dense)             multiple                  219530    \n",
      "=================================================================\n",
      "Total params: 219,586\n",
      "Trainable params: 219,586\n",
      "Non-trainable params: 0\n",
      "_________________________________________________________________\n"
     ]
    }
   ],
   "source": [
    "dense_net = Sequential()\n",
    "dense_net.add(Dense(28, activation = tf.nn.relu))\n",
    "dense_net.add(Flatten())\n",
    "dense_net.add(Dense(num_classes, activation = tf.nn.softmax))\n",
    "\n",
    "dense_net.compile(optimizer = \"adam\", loss = \"sparse_categorical_crossentropy\", metrics = [\"accuracy\"])\n",
    "dense_net_history = dense_net.fit(x = x_train_keras, y = y_train, epochs = 10, validation_split = 0.1, batch_size = 32)\n",
    "dense_net.summary()"
   ]
  },
  {
   "cell_type": "code",
   "execution_count": 141,
   "metadata": {},
   "outputs": [
    {
     "name": "stdout",
     "output_type": "stream",
     "text": [
      "10000/10000 [==============================] - 1s 122us/sample - loss: 0.2746 - acc: 0.9262\n"
     ]
    },
    {
     "data": {
      "text/plain": [
       "[0.2746317294538021, 0.9262]"
      ]
     },
     "execution_count": 141,
     "metadata": {},
     "output_type": "execute_result"
    },
    {
     "data": {
      "image/png": "[encoded data removed]",
      "text/plain": [
       "<Figure size 1080x504 with 2 Axes>"
      ]
     },
     "metadata": {},
     "output_type": "display_data"
    }
   ],
   "source": [
    "plot_history(dense_net_history)\n",
    "save_model(dense_net, \"dense_net\")\n",
    "dense_net.evaluate(x_test_keras, y_test)"
   ]
  },
  {
   "cell_type": "markdown",
   "metadata": {},
   "source": [
    "#### A convolutional net\n",
    "\n",
    "VGG architecture:\n",
    "- https://www.pyimagesearch.com/2017/03/20/imagenet-vggnet-resnet-inception-xception-keras/\n",
    "- only 3×3 conv with increasing depth\n",
    "- max pooling to keep volume size low\n",
    "- 2 FC layers with 4096 nodes\n",
    "- softmax classifier\n",
    "- used for image recognition\n",
    "\n",
    "Drawbacks:\n",
    "- SLOWWWW\n",
    "- lots of parameters"
   ]
  },
  {
   "cell_type": "code",
   "execution_count": 142,
   "metadata": {},
   "outputs": [],
   "source": [
    "# use conv2d layers since our input is a sequence of 2d images\n",
    "#  this architecture is only loosely based on vgg: basically just the main principle\n",
    "conv_net = Sequential()\n",
    "\n",
    "conv_net.add(Conv2D(64, kernel_size = (3,3)))\n",
    "conv_net.add(MaxPooling2D(pool_size = (2,2)))\n",
    "\n",
    "conv_net.add(Conv2D(128, kernel_size = (3,3)))\n",
    "conv_net.add(MaxPooling2D(pool_size = (2,2)))\n",
    "\n",
    "conv_net.add(Conv2D(256, kernel_size = (3,3)))\n",
    "conv_net.add(MaxPooling2D(pool_size = (2,2)))\n",
    "\n",
    "conv_net.add(Flatten())\n",
    "conv_net.add(Dense(1024, activation = tf.nn.relu))\n",
    "conv_net.add(Dense(1024, activation = tf.nn.relu))\n",
    "conv_net.add(Dense(num_classes, activation = tf.nn.softmax))"
   ]
  },
  {
   "cell_type": "code",
   "execution_count": 152,
   "metadata": {},
   "outputs": [
    {
     "name": "stdout",
     "output_type": "stream",
     "text": [
      "Train on 54000 samples, validate on 6000 samples\n",
      "Epoch 1/2\n",
      "54000/54000 [==============================] - 127s 2ms/sample - loss: 0.0651 - acc: 0.9819 - val_loss: 0.0439 - val_acc: 0.9862\n",
      "Epoch 2/2\n",
      "54000/54000 [==============================] - 126s 2ms/sample - loss: 0.0470 - acc: 0.9870 - val_loss: 0.0591 - val_acc: 0.9852\n",
      "_________________________________________________________________\n",
      "Layer (type)                 Output Shape              Param #   \n",
      "=================================================================\n",
      "conv2d_12 (Conv2D)           multiple                  640       \n",
      "_________________________________________________________________\n",
      "max_pooling2d_11 (MaxPooling multiple                  0         \n",
      "_________________________________________________________________\n",
      "conv2d_13 (Conv2D)           multiple                  73856     \n",
      "_________________________________________________________________\n",
      "max_pooling2d_12 (MaxPooling multiple                  0         \n",
      "_________________________________________________________________\n",
      "flatten_11 (Flatten)         multiple                  0         \n",
      "_________________________________________________________________\n",
      "dense_48 (Dense)             multiple                  3277824   \n",
      "_________________________________________________________________\n",
      "dense_49 (Dense)             multiple                  1049600   \n",
      "_________________________________________________________________\n",
      "dense_50 (Dense)             multiple                  10250     \n",
      "=================================================================\n",
      "Total params: 4,412,170\n",
      "Trainable params: 4,412,170\n",
      "Non-trainable params: 0\n",
      "_________________________________________________________________\n"
     ]
    }
   ],
   "source": [
    "# if labels are not one-hot encoded, use sparse categorical cross-entropy instead of just categorical cross-entropy!\n",
    "\n",
    "#  train with only 1 epoch to spare us some time lol\n",
    "conv_net.compile(optimizer = \"adam\", loss = \"sparse_categorical_crossentropy\", metrics = [\"accuracy\"])\n",
    "conv_net_history = conv_net.fit(x=x_train_keras, y = y_train, epochs = 2, validation_split = 0.1, batch_size = 32)\n",
    "conv_net.summary()"
   ]
  },
  {
   "cell_type": "code",
   "execution_count": 153,
   "metadata": {},
   "outputs": [
    {
     "name": "stdout",
     "output_type": "stream",
     "text": [
      "10000/10000 [==============================] - 5s 452us/sample - loss: 0.0546 - acc: 0.9857\n"
     ]
    },
    {
     "data": {
      "text/plain": [
       "[0.05462352115928225, 0.9857]"
      ]
     },
     "execution_count": 153,
     "metadata": {},
     "output_type": "execute_result"
    },
    {
     "data": {
      "image/png": "[encoded data removed]",
      "text/plain": [
       "<Figure size 1080x504 with 2 Axes>"
      ]
     },
     "metadata": {},
     "output_type": "display_data"
    }
   ],
   "source": [
    "plot_history(conv_net_history)\n",
    "save_model(conv_net, \"conv_net\")\n",
    "conv_net.evaluate(x_test_keras, y_test)"
   ]
  },
  {
   "cell_type": "markdown",
   "metadata": {},
   "source": [
    "- only 2 epochs and still manage to reach 0.98, with test 0.98 too"
   ]
  },
  {
   "cell_type": "markdown",
   "metadata": {},
   "source": [
    "#### A mix of both worlds:\n",
    "- 1 convolutional layer is enough\n",
    "- use relu\n",
    "- use dropout\n",
    "- use softmax"
   ]
  },
  {
   "cell_type": "code",
   "execution_count": 155,
   "metadata": {},
   "outputs": [],
   "source": [
    "model = Sequential()\n",
    "model.add(Conv2D(32, kernel_size = (2,2), input_shape = input_shape))\n",
    "model.add(MaxPooling2D(pool_size = (2,2)))\n",
    "model.add(Dropout(0.25))\n",
    "model.add(Flatten())\n",
    "model.add(Dense(128, activation = tf.nn.relu))\n",
    "model.add(Dense(num_classes, activation = tf.nn.softmax))"
   ]
  },
  {
   "cell_type": "code",
   "execution_count": 157,
   "metadata": {},
   "outputs": [
    {
     "name": "stdout",
     "output_type": "stream",
     "text": [
      "Train on 54000 samples, validate on 6000 samples\n",
      "Epoch 1/10\n",
      "54000/54000 [==============================] - 22s 405us/sample - loss: 0.2137 - acc: 0.9352 - categorical_accuracy: 0.0995 - val_loss: 0.0790 - val_acc: 0.9775 - val_categorical_accuracy: 0.0977\n",
      "Epoch 2/10\n",
      "54000/54000 [==============================] - 23s 421us/sample - loss: 0.0814 - acc: 0.9747 - categorical_accuracy: 0.0990 - val_loss: 0.0708 - val_acc: 0.9800 - val_categorical_accuracy: 0.0968\n",
      "Epoch 3/10\n",
      "54000/54000 [==============================] - 23s 426us/sample - loss: 0.0549 - acc: 0.9828 - categorical_accuracy: 0.0991 - val_loss: 0.0585 - val_acc: 0.9847 - val_categorical_accuracy: 0.0973\n",
      "Epoch 4/10\n",
      "54000/54000 [==============================] - 23s 429us/sample - loss: 0.0395 - acc: 0.9871 - categorical_accuracy: 0.0989 - val_loss: 0.0588 - val_acc: 0.9843 - val_categorical_accuracy: 0.0973\n",
      "Epoch 5/10\n",
      "54000/54000 [==============================] - 23s 425us/sample - loss: 0.0319 - acc: 0.9903 - categorical_accuracy: 0.0988 - val_loss: 0.0639 - val_acc: 0.9822 - val_categorical_accuracy: 0.0980\n",
      "Epoch 6/10\n",
      "54000/54000 [==============================] - 24s 436us/sample - loss: 0.0236 - acc: 0.9922 - categorical_accuracy: 0.0989 - val_loss: 0.0591 - val_acc: 0.9858 - val_categorical_accuracy: 0.0970\n",
      "Epoch 7/10\n",
      "54000/54000 [==============================] - 24s 435us/sample - loss: 0.0209 - acc: 0.9928 - categorical_accuracy: 0.0988 - val_loss: 0.0597 - val_acc: 0.9855 - val_categorical_accuracy: 0.0970\n",
      "Epoch 8/10\n",
      "54000/54000 [==============================] - 24s 442us/sample - loss: 0.0187 - acc: 0.9936 - categorical_accuracy: 0.0989 - val_loss: 0.0626 - val_acc: 0.9855 - val_categorical_accuracy: 0.0972\n",
      "Epoch 9/10\n",
      "54000/54000 [==============================] - 23s 425us/sample - loss: 0.0162 - acc: 0.9942 - categorical_accuracy: 0.0988 - val_loss: 0.0608 - val_acc: 0.9870 - val_categorical_accuracy: 0.0967\n",
      "Epoch 10/10\n",
      "54000/54000 [==============================] - 23s 423us/sample - loss: 0.0150 - acc: 0.9947 - categorical_accuracy: 0.0989 - val_loss: 0.0684 - val_acc: 0.9875 - val_categorical_accuracy: 0.0965\n",
      "_________________________________________________________________\n",
      "Layer (type)                 Output Shape              Param #   \n",
      "=================================================================\n",
      "conv2d_15 (Conv2D)           (None, 27, 27, 32)        160       \n",
      "_________________________________________________________________\n",
      "max_pooling2d_14 (MaxPooling (None, 13, 13, 32)        0         \n",
      "_________________________________________________________________\n",
      "dropout_5 (Dropout)          (None, 13, 13, 32)        0         \n",
      "_________________________________________________________________\n",
      "flatten_13 (Flatten)         (None, 5408)              0         \n",
      "_________________________________________________________________\n",
      "dense_53 (Dense)             (None, 128)               692352    \n",
      "_________________________________________________________________\n",
      "dense_54 (Dense)             (None, 10)                1290      \n",
      "=================================================================\n",
      "Total params: 693,802\n",
      "Trainable params: 693,802\n",
      "Non-trainable params: 0\n",
      "_________________________________________________________________\n"
     ]
    }
   ],
   "source": [
    "model.compile(optimizer = \"adam\", loss = \"sparse_categorical_crossentropy\", metrics = [\"accuracy\",\"categorical_accuracy\"])\n",
    "model_history = model.fit(x_train_keras, y_train, epochs = 10, validation_split = 0.1, batch_size = 32)\n",
    "model.summary()"
   ]
  },
  {
   "cell_type": "code",
   "execution_count": 158,
   "metadata": {},
   "outputs": [
    {
     "name": "stdout",
     "output_type": "stream",
     "text": [
      "10000/10000 [==============================] - 1s 110us/sample - loss: 0.0728 - acc: 0.9822 - categorical_accuracy: 0.0983\n"
     ]
    },
    {
     "data": {
      "text/plain": [
       "[0.07284063375153528, 0.9822, 0.0983]"
      ]
     },
     "execution_count": 158,
     "metadata": {},
     "output_type": "execute_result"
    },
    {
     "data": {
      "image/png": "[encoded data removed]",
      "text/plain": [
       "<Figure size 1080x504 with 2 Axes>"
      ]
     },
     "metadata": {},
     "output_type": "display_data"
    }
   ],
   "source": [
    "plot_history(model_history)\n",
    "save_model(model, \"model\")\n",
    "model.evaluate(x_test_keras, y_test)"
   ]
  },
  {
   "cell_type": "markdown",
   "metadata": {},
   "source": [
    "- not as good as vgg ish conv net, but its just way faster, and seems to pick up well anyways: even though 0.93 accuracy on first epoch, peaks to 0.99 after 5 epoch and test is also 0.98...\n",
    "- should really compare hyperparameters and parameters such as kernel size but meh\n",
    "- also should train model a few times to get statistics on the accuracy / losses results for good practice"
   ]
  },
  {
   "cell_type": "markdown",
   "metadata": {},
   "source": [
    "### fashion MNIST"
   ]
  },
  {
   "cell_type": "code",
   "execution_count": 159,
   "metadata": {},
   "outputs": [],
   "source": [
    "((x_train, y_train), (x_test, y_test)) = tf.keras.datasets.fashion_mnist.load_data()\n"
   ]
  },
  {
   "cell_type": "code",
   "execution_count": 160,
   "metadata": {},
   "outputs": [
    {
     "name": "stdout",
     "output_type": "stream",
     "text": [
      "9\n"
     ]
    },
    {
     "data": {
      "image/png": "[encoded data removed]",
      "text/plain": [
       "<Figure size 432x288 with 1 Axes>"
      ]
     },
     "metadata": {},
     "output_type": "display_data"
    }
   ],
   "source": [
    "plt.imshow(x_train[0], cmap = \"Greys\")\n",
    "print(y_train[0])"
   ]
  },
  {
   "cell_type": "markdown",
   "metadata": {},
   "source": [
    "The classes are encoded as : (already done when loading from keras)\n",
    "- 0 T-shirt/top\n",
    "- 1 Trouser/pants\n",
    "- 2 Pullover shirt\n",
    "- 3 Dress\n",
    "- 4 Coat\n",
    "- 5 Sandal\n",
    "- 6 Shirt\n",
    "- 7 Sneaker\n",
    "- 8 Bag\n",
    "- 9 Ankle boot\n",
    "\n",
    "The images are in grayscale --> 0 to 255 pixel values; there are 10 categories"
   ]
  },
  {
   "cell_type": "markdown",
   "metadata": {},
   "source": [
    "shamelessly going to take this from \n",
    "https://www.pyimagesearch.com/2019/02/11/fashion-mnist-with-keras-and-deep-learning/"
   ]
  },
  {
   "cell_type": "markdown",
   "metadata": {},
   "source": [
    "To start, keep in mind that the Fashion MNIST dataset is meant to be a drop-in replacement for the MNIST dataset, implying that our images have already been processed.\n",
    "\n",
    "Each image has been:\n",
    "\n",
    "Converted to grayscale.\n",
    "Segmented, such that all background pixels are black and all foreground pixels are some gray, non-black pixel intensity.\n",
    "Resized to 28×28 pixels."
   ]
  },
  {
   "cell_type": "code",
   "execution_count": null,
   "metadata": {},
   "outputs": [],
   "source": []
  },
  {
   "cell_type": "code",
   "execution_count": 55,
   "metadata": {},
   "outputs": [],
   "source": [
    "# could redo exactly the same net as before, but could also do something else... "
   ]
  },
  {
   "cell_type": "markdown",
   "metadata": {},
   "source": [
    "Image augmentation allows us to construct “additional” training data from our existing training data by randomly rotating, shifting, shearing, zooming, and flipping.\n",
    "\n",
    "Data augmentation is often a critical step to:\n",
    "\n",
    "Avoiding overfitting\n",
    "Ensuring your model generalizes well\n"
   ]
  },
  {
   "cell_type": "code",
   "execution_count": 61,
   "metadata": {},
   "outputs": [],
   "source": [
    "from tensorflow.keras.preprocessing.image import ImageDataGenerator"
   ]
  },
  {
   "cell_type": "code",
   "execution_count": 62,
   "metadata": {},
   "outputs": [],
   "source": [
    "# keras has something to do it automatically for us but we could also manually implement it\n",
    "# construct the image generator for data augmentation\n",
    "aug = ImageDataGenerator(rotation_range=30, width_shift_range=0.1,\\\n",
    "                         height_shift_range=0.1, shear_range=0.2, zoom_range=0.2,\\\n",
    "                         horizontal_flip=True, fill_mode=\"nearest\")"
   ]
  },
  {
   "cell_type": "code",
   "execution_count": null,
   "metadata": {},
   "outputs": [],
   "source": []
  },
  {
   "cell_type": "markdown",
   "metadata": {},
   "source": [
    "###  CIFAR10"
   ]
  },
  {
   "cell_type": "code",
   "execution_count": 57,
   "metadata": {},
   "outputs": [],
   "source": [
    "from tensorflow.keras.datasets import cifar10"
   ]
  },
  {
   "cell_type": "code",
   "execution_count": 58,
   "metadata": {},
   "outputs": [
    {
     "name": "stdout",
     "output_type": "stream",
     "text": [
      "Downloading data from https://www.cs.toronto.edu/~kriz/cifar-10-python.tar.gz\n",
      "170500096/170498071 [==============================] - 17s 0us/step\n"
     ]
    }
   ],
   "source": [
    "((x_train, y_train), (x_test, y_test)) = tf.keras.datasets.cifar10.load_data()\n"
   ]
  }
 ],
 "metadata": {
  "kernelspec": {
   "display_name": "Python 3",
   "language": "python",
   "name": "python3"
  },
  "language_info": {
   "codemirror_mode": {
    "name": "ipython",
    "version": 3
   },
   "file_extension": ".py",
   "mimetype": "text/x-python",
   "name": "python",
   "nbconvert_exporter": "python",
   "pygments_lexer": "ipython3",
   "version": "3.7.1"
  }
 },
 "nbformat": 4,
 "nbformat_minor": 2
}
